{
 "cells": [
  {
   "attachments": {},
   "cell_type": "markdown",
   "metadata": {},
   "source": [
    "# Pensamiento Algorítmico\n",
    "\n",
    "## Taller: Ciclo While\n",
    "\n",
    "Resuelva cada uno de los ejercicios siguientes en la casilla correspondiente\n",
    "\n",
    "---"
   ]
  },
  {
   "attachments": {},
   "cell_type": "markdown",
   "metadata": {},
   "source": [
    "Nombre: Sofia Calle Franco\n",
    "Documento: 1056122197"
   ]
  },
  {
   "attachments": {},
   "cell_type": "markdown",
   "metadata": {},
   "source": [
    "### Ejercicio 1\n",
    "\n",
    "Elabore un programa que muestre los números del 1 al 20. Para este ejercicio utilice el ciclo **while**."
   ]
  },
  {
   "cell_type": "code",
   "execution_count": 1,
   "metadata": {},
   "outputs": [
    {
     "name": "stdout",
     "output_type": "stream",
     "text": [
      "1\n",
      "2\n",
      "3\n",
      "4\n",
      "5\n",
      "6\n",
      "7\n",
      "8\n",
      "9\n",
      "10\n",
      "11\n",
      "12\n",
      "13\n",
      "14\n",
      "15\n",
      "16\n",
      "17\n",
      "18\n",
      "19\n",
      "20\n"
     ]
    }
   ],
   "source": [
    "cont = 1\n",
    "while cont <= 20:\n",
    "    print(cont)\n",
    "    cont += 1"
   ]
  },
  {
   "attachments": {},
   "cell_type": "markdown",
   "metadata": {},
   "source": [
    "### Ejercicio 2\n",
    "\n",
    "Elabore un programa que muestre únicamente los números pares entre el 1 y el 100. Para este ejercicio utilice el ciclo **while**."
   ]
  },
  {
   "cell_type": "code",
   "execution_count": 2,
   "metadata": {},
   "outputs": [
    {
     "name": "stdout",
     "output_type": "stream",
     "text": [
      "2\n",
      "4\n",
      "6\n",
      "8\n",
      "10\n",
      "12\n",
      "14\n",
      "16\n",
      "18\n",
      "20\n",
      "22\n",
      "24\n",
      "26\n",
      "28\n",
      "30\n",
      "32\n",
      "34\n",
      "36\n",
      "38\n",
      "40\n",
      "42\n",
      "44\n",
      "46\n",
      "48\n",
      "50\n",
      "52\n",
      "54\n",
      "56\n",
      "58\n",
      "60\n",
      "62\n",
      "64\n",
      "66\n",
      "68\n",
      "70\n",
      "72\n",
      "74\n",
      "76\n",
      "78\n",
      "80\n",
      "82\n",
      "84\n",
      "86\n",
      "88\n",
      "90\n",
      "92\n",
      "94\n",
      "96\n",
      "98\n",
      "100\n"
     ]
    }
   ],
   "source": [
    "cont=1\n",
    "while cont <=100:\n",
    "    if cont % 2 == 0:\n",
    "        print(cont)\n",
    "\n",
    "    cont+=1"
   ]
  },
  {
   "attachments": {},
   "cell_type": "markdown",
   "metadata": {},
   "source": [
    "### Ejercicio 3\n",
    "\n",
    "Elabore un programa que lea indefinidamente un nombre y genere un saludo junto con el número correspondiente a su orden de ingreso. Finalice el programa cuando el usuario ingrese la palabra ***stop***"
   ]
  },
  {
   "cell_type": "code",
   "execution_count": 3,
   "metadata": {},
   "outputs": [
    {
     "name": "stdout",
     "output_type": "stream",
     "text": [
      "Hola Manuela, bienvenido tu numero identificador es 1 \n",
      "Hola Miguel, bienvenido tu numero identificador es 1 \n",
      "Hola Juan, bienvenido tu numero identificador es 1 \n"
     ]
    }
   ],
   "source": [
    "palabra = \"\"\n",
    "cont = 1\n",
    "\n",
    "while True:\n",
    "    palabra = input('Ingresa tu nombre: ')\n",
    "    if palabra != 'stop':\n",
    "        print(f'Hola {palabra}, bienvenido tu numero identificador es {cont} ')\n",
    "        cont+=1\n",
    "    else:\n",
    "        break\n"
   ]
  },
  {
   "attachments": {},
   "cell_type": "markdown",
   "metadata": {},
   "source": [
    "### Ejercicio 4\n",
    "\n",
    "Un restaurante desea generar facturas para sus clientes. Elabore un algoritmo que lea el nombre y precio de cada platillo. Luego que pregunte si desea agregar otro platillo. Una vez el usuario haya terminado de agregar platillos a la factura, pregunte si desea adicionar el valor del servicio. En caso de adicionar el servicio, lea el porcentaje a adicionar. Al final muestre el total a pagar."
   ]
  },
  {
   "cell_type": "code",
   "execution_count": 4,
   "metadata": {},
   "outputs": [
    {
     "name": "stdout",
     "output_type": "stream",
     "text": [
      "El total a pagar es 0.0\n"
     ]
    }
   ],
   "source": [
    "precio = 0\n",
    "while True:\n",
    "    nombre = input('Ingresa el nombre del producto: ')\n",
    "    precio_producto = float(input('Ingresa el precio del producto: '))\n",
    "    precio += precio_producto\n",
    "    seguir = input('Si deseas añadir otro producto escribe S sino N: ')\n",
    "    if seguir == 'N':\n",
    "        break\n",
    "\n",
    "servicio = input('Si deseas añadir el servicio escribe S sino N')\n",
    "if servicio == 'S':\n",
    "    porcentaje = int(input('Ingresa un numero entre 1 y 100 correspondiente al porcentaje a cobrar por el servicio: '))\n",
    "    precio_final = precio + precio*(porcentaje/100)\n",
    "else:\n",
    "    precio_final = precio\n",
    "\n",
    "print(f'El total a pagar es {precio_final}')\n"
   ]
  },
  {
   "attachments": {},
   "cell_type": "markdown",
   "metadata": {},
   "source": [
    "### Ejercicio 5\n",
    "\n",
    "Crear un programa que permita al usuario ingresar los montos de las compras de un cliente por cada artículo hasta que el usuario ingrese 0. Si ingresa un monto negativo, no se debe procesar y se debe pedir que ingrese un nuevo monto. Al finalizar, informar el total a pagar teniendo que cuenta que, si las ventas superan el total de $1000 USD, se le debe aplicar un 10% de descuento."
   ]
  },
  {
   "cell_type": "code",
   "execution_count": null,
   "metadata": {},
   "outputs": [],
   "source": [
    "precio_final = 0\n",
    "numero = 1\n",
    "while numero !=0:\n",
    "    numero = float(input('Ingresa el monto del producto'))\n",
    "    if numero >= 0:\n",
    "        precio_final+=numero \n",
    "    else:\n",
    "        print('Numero no procesable, ingresa otro valor')\n",
    "\n",
    "if precio_final > 1000:\n",
    "    precio_con_descuento = precio_final-(precio_final*0.1)\n",
    "    print(f'El valor a pagar es {precio_con_descuento}')\n",
    "else:\n",
    "    print(f'El valor a pagar es {precio_final}')"
   ]
  },
  {
   "attachments": {},
   "cell_type": "markdown",
   "metadata": {},
   "source": [
    "### Ejercicio 6\n",
    "\n",
    "Cree un programa que muestre mensaje de bienvenida seguido de un menú principal:\n",
    "\n",
    "* 1 - Realizar suma\n",
    "* 2 - Realizar resta\n",
    "* 3 - Realizar multiplicación\n",
    "* 4 - Realizar división\n",
    "* 5 - Salir\n",
    "\n",
    "Una vez el usuario seleccione una opción, lea dos números y realice la operación seleccionada para luego volver al menú principal. Si el usuario elige la opción *5 - Salir*, muestre un mensaje de despedida y finalice el programa. Debe validar que la opción seleccionada sea correcta."
   ]
  },
  {
   "cell_type": "code",
   "execution_count": 7,
   "metadata": {},
   "outputs": [
    {
     "name": "stdout",
     "output_type": "stream",
     "text": [
      "Bienvenido a la calculadora con ciclo while\n",
      "* 1 - Realizar suma\n",
      "* 2 - Realizar resta\n",
      "* 3 - Realizar multiplicación\n",
      "* 4 - Realizar división\n",
      "* 5 - Salir\n",
      "El resultado es 3\n",
      "* 1 - Realizar suma\n",
      "* 2 - Realizar resta\n",
      "* 3 - Realizar multiplicación\n",
      "* 4 - Realizar división\n",
      "* 5 - Salir\n",
      "*** GRACIAS POR PREFERIRNOS *** \n"
     ]
    }
   ],
   "source": [
    "print('Bienvenido a la calculadora con ciclo while')\n",
    "while True:\n",
    "    print(\"* 1 - Realizar suma\")\n",
    "    print(\"* 2 - Realizar resta\")\n",
    "    print(\"* 3 - Realizar multiplicación\")\n",
    "    print(\"* 4 - Realizar división\")\n",
    "    print(\"* 5 - Salir\")\n",
    "\n",
    "    operacion = int(input('Ingresa la operacion que quieres realizar:'))\n",
    "\n",
    "    if operacion == 1:\n",
    "        numero1 = int(input('Ingresa el primer numero: '))\n",
    "        numero2 = int(input('Ingresa el segundo numero: '))\n",
    "        print(f'El resultado es {numero1+numero2}')\n",
    "    elif operacion == 2:\n",
    "        numero1 = int(input('Ingresa el primer numero: '))\n",
    "        numero2 = int(input('Ingresa el segundo numero: '))\n",
    "        print(f'El resultado es {numero1-numero2}')\n",
    "    elif operacion == 3:\n",
    "        numero1 = int(input('Ingresa el primer numero: '))\n",
    "        numero2 = int(input('Ingresa el segundo numero: '))\n",
    "        print(f'El resultado es {numero1*numero2}') \n",
    "    elif operacion == 4:\n",
    "        numero1 = int(input('Ingresa el primer numero: '))\n",
    "        numero2 = int(input('Ingresa el segundo numero y recuerda que debe ser diferente a 0: '))\n",
    "        print(f'El resultado es {numero1/numero2}') \n",
    "    elif operacion == 5:\n",
    "        print('Hasta luego!!')\n",
    "        print('*** GRACIAS POR PREFERIRNOS *** ')  \n",
    "        break\n",
    "    "
   ]
  },
  {
   "cell_type": "code",
   "execution_count": null,
   "metadata": {},
   "outputs": [],
   "source": []
  }
 ],
 "metadata": {
  "kernelspec": {
   "display_name": "Python 3",
   "language": "python",
   "name": "python3"
  },
  "language_info": {
   "codemirror_mode": {
    "name": "ipython",
    "version": 3
   },
   "file_extension": ".py",
   "mimetype": "text/x-python",
   "name": "python",
   "nbconvert_exporter": "python",
   "pygments_lexer": "ipython3",
   "version": "3.10.2"
  }
 },
 "nbformat": 4,
 "nbformat_minor": 4
}
