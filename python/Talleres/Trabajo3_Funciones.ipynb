{
 "cells": [
  {
   "attachments": {},
   "cell_type": "markdown",
   "metadata": {},
   "source": [
    "# Trabajo 3: Pensamiento Algorítmico\n",
    "\n",
    "Elabore los siguientes ejercicios utilizando Funciones."
   ]
  },
  {
   "attachments": {},
   "cell_type": "markdown",
   "metadata": {},
   "source": [
    "- Estudiante 1: Sofia Calle Franco\n",
    "- Estudiante 2\n",
    "- Estudiante 3"
   ]
  },
  {
   "attachments": {},
   "cell_type": "markdown",
   "metadata": {},
   "source": [
    "## Ejercicio 1 (70%)\n",
    "\n",
    "Una Liga de Futbol Amateur desea generar un reporte para sus equipos. El sistema de puntos de la liga es el siguiente:\n",
    "\n",
    "- Por cada **victoria** se reciben **3 puntos**\n",
    "- Por cada **empate** se recibe **1 punto**\n",
    "- Por cada **derrota** se reciben **0 puntos**\n",
    "\n",
    "Los resultados se almacenan en una matriz de NxN, donde N es la cantidad de equipos que participan, y donde se registran cada uno de los goles anotados en los encuentros, por ejemplo:\n",
    "\n",
    "|            | Equipo 1 | Equipo 2 | Equipo 3 | ... | Equipo N |\n",
    "|------------|----------|----------|----------|-----|----------|\n",
    "| Equipo 1   | 0        | 4        | 2        | ... | 1        |\n",
    "| Equipo 2   | 5        | 0        | 3        | ... | 2        |\n",
    "| Equipo 3   | 0        | 2        | 0        | ... | 1        |\n",
    "| ...        | ...      | ...      | ...      | ... | ...      |\n",
    "| Equipo N   | 1        | 0        | 3        | ... | 0        |\n",
    "\n",
    "Se puede ver que:\n",
    "\n",
    "- El equipo 1:\n",
    "    - Le marcó 4 goles al Equipo 2 y recibió 5 goles\n",
    "    - Le marcó 2 goles al Equipo 3 y recibió 0 goles \n",
    "    - Le marcó 1 gol al Equipo N y recibió 1 gol\n",
    "- El equipo 2:\n",
    "    - Le marcó 5 goles al Equipo 1 y recibió 4 goles\n",
    "    - Le marcó 3 goles al Equipo 3 y recibió 2 goles\n",
    "    - Le marcó 2 goles al Equipo N y recibió 0 goles\n",
    "    \n",
    "**NOTA**: Mire que en la matriz cuando la posición es igual, se coloca un 0.\n",
    "\n",
    "Elabore la función ***puntajes*** que recibe la matriz de resultados y, por cada equipo, **imprima**:\n",
    "\n",
    "```\n",
    "El equipo <N> obtuvo <Cantidad Puntos> puntos, producto de <Cantidad Victorias> victorias, <Cantidad Empates> empates y <Cantidad Derrotas> derrotas \n",
    "```\n"
   ]
  },
  {
   "cell_type": "code",
   "execution_count": 9,
   "metadata": {},
   "outputs": [],
   "source": [
    "# Modifique esta celda para crear la funcion\n",
    "def comparar_resultados(goles,encontra):\n",
    "        puntos = 0\n",
    "        victorias = 0\n",
    "        empates = 0\n",
    "        derrotas = 0\n",
    "        for i in range(0,len(goles)):\n",
    "            if goles[i] > encontra[i]:\n",
    "                puntos+=3\n",
    "                victorias+=1\n",
    "            elif goles[i] < encontra[i]:\n",
    "                derrotas+=1\n",
    "            else:\n",
    "                puntos+=1\n",
    "                empates+=1\n",
    "            \n",
    "        return [puntos,victorias,empates-1,derrotas]\n",
    "        \n",
    "def puntajes(resultados):\n",
    "    for i in range(len(resultados)):\n",
    "        lista_goles_hechos = resultados[i]\n",
    "        lista_goles_encontra = []\n",
    "        for j in range(len(resultados)):\n",
    "            lista_goles_encontra.append(resultados[j][i])\n",
    "  \n",
    "        balance = comparar_resultados(lista_goles_hechos,lista_goles_encontra)\n",
    "            \n",
    "        print(f'El equipo {i+1} obtuvo {balance[0]} puntos producto de:')\n",
    "        \n",
    "        print(f'Victorias {balance[1]}')\n",
    "        print(f'Empates {balance[2]}')\n",
    "        print(f'Derrotas {balance[3]}')\n",
    "        print(\"********\")\n"
   ]
  },
  {
   "cell_type": "code",
   "execution_count": 10,
   "metadata": {},
   "outputs": [
    {
     "name": "stdout",
     "output_type": "stream",
     "text": [
      "El equipo 1 obtuvo 7 puntos producto de:\n",
      "Victorias 2\n",
      "Empates 1\n",
      "Derrotas 1\n",
      "********\n",
      "El equipo 2 obtuvo 5 puntos producto de:\n",
      "Victorias 1\n",
      "Empates 2\n",
      "Derrotas 1\n",
      "********\n",
      "El equipo 3 obtuvo 8 puntos producto de:\n",
      "Victorias 2\n",
      "Empates 2\n",
      "Derrotas 0\n",
      "********\n",
      "El equipo 4 obtuvo 3 puntos producto de:\n",
      "Victorias 0\n",
      "Empates 3\n",
      "Derrotas 1\n",
      "********\n",
      "El equipo 5 obtuvo 3 puntos producto de:\n",
      "Victorias 0\n",
      "Empates 3\n",
      "Derrotas 1\n",
      "********\n"
     ]
    }
   ],
   "source": [
    "# Celda de prueba ----> NO MODIFICAR, SOLO EJECUTAR\n",
    "goles = [[0,0,5,2,4],\n",
    "         [0,0,0,5,2],\n",
    "         [4,1,0,1,4],\n",
    "         [0,4,1,0,0],\n",
    "         [5,2,0,0,0]]\n",
    "\n",
    "puntajes(goles)"
   ]
  },
  {
   "attachments": {
    "4d63ce71-f6ff-42e6-a17c-edd6a2fe6c38.png": {
     "image/png": "[encoded data removed]"
    }
   },
   "cell_type": "markdown",
   "metadata": {},
   "source": [
    "## Ejercicio 2 (30%)\n",
    "\n",
    "Elabore la función **suma_matrices** que reciba 2 matrices y retorne la suma de estas. Por ejemplo\n",
    "\n",
    "![image.png](attachment:4d63ce71-f6ff-42e6-a17c-edd6a2fe6c38.png)\n",
    "\n",
    "La función debe validar que las matrices sean de la misma dimensión (Ambas deben tener la misma cantidad de filas y columnas), de lo contrario, la función debe retornar un mensaje de error que diga:\n",
    "\n",
    "```\n",
    "No es posible realizar la suma de matrices ya que la matriz A es de tamaño <# Filas de A>x<# Columnas de B> y la matriz B es de tamaño <# Filas de B> x <# Columnas de B>\n",
    "```"
   ]
  },
  {
   "cell_type": "code",
   "execution_count": 19,
   "metadata": {},
   "outputs": [],
   "source": [
    "# Modifique esta celda para crear la funcion\n",
    "def suma_matrices(A,B):\n",
    "    if len(A) != len(B) or len(A[0])!=len(B[0]):\n",
    "        print(f'No es posible realizar la operacion')\n",
    "        print(f'Ya que la matriz A es de tamaño {len(A)}X{len(A[0])} y la matriz B es de tamaño {len(B)}X{len(B[0])}')\n",
    "    else:\n",
    "        for i in range(len(A)):\n",
    "            fila_resultado = []\n",
    "            for j in range(len(A[0])):\n",
    "                fila_resultado.append(A[i][j]+B[i][j])\n",
    "            \n",
    "            print(\"[\",*fila_resultado,\"]\")"
   ]
  },
  {
   "cell_type": "code",
   "execution_count": 20,
   "metadata": {},
   "outputs": [
    {
     "name": "stdout",
     "output_type": "stream",
     "text": [
      "[ 10 11 7 7 ]\n",
      "[ 11 5 14 12 ]\n",
      "[ 0 1 9 7 ]\n",
      "[ 9 11 11 18 ]\n"
     ]
    }
   ],
   "source": [
    "# Celda de prueba ----> NO MODIFICAR, SOLO EJECUTAR\n",
    "\n",
    "A = [[1,5,2,3],\n",
    "    [4,1,9,8],\n",
    "    [0,1,5,7],\n",
    "    [6,5,7,9]]\n",
    "\n",
    "B = [[9,6,5,4],\n",
    "    [7,4,5,4],\n",
    "    [0,0,4,0],\n",
    "    [3,6,4,9]]\n",
    "\n",
    "suma_matrices(A,B)"
   ]
  },
  {
   "cell_type": "code",
   "execution_count": 21,
   "metadata": {},
   "outputs": [
    {
     "name": "stdout",
     "output_type": "stream",
     "text": [
      "[ 2 3 ]\n",
      "[ 4 1 ]\n",
      "[ 0 0 ]\n"
     ]
    }
   ],
   "source": [
    "# Celda de prueba ----> NO MODIFICAR, SOLO EJECUTAR\n",
    "A = [[1,1],\n",
    "    [2,1],\n",
    "    [0,1]]\n",
    "\n",
    "B = [[1,2],\n",
    "    [2,0],\n",
    "    [0,-1]]\n",
    "\n",
    "suma_matrices(A,B)"
   ]
  },
  {
   "cell_type": "code",
   "execution_count": 18,
   "metadata": {},
   "outputs": [
    {
     "name": "stdout",
     "output_type": "stream",
     "text": [
      "No es posible realizar la operacion\n",
      "Ya que la matriz A es de tamaño 4X4 y la matriz B es de tamaño 2X2\n"
     ]
    }
   ],
   "source": [
    "# Celda de prueba ----> NO MODIFICAR, SOLO EJECUTAR\n",
    "A = [[1,5,2,3],\n",
    "    [4,1,9,8],\n",
    "    [0,1,5,7],\n",
    "    [6,5,7,9]]\n",
    "\n",
    "B = [[1,2],\n",
    "    [2,3]]\n",
    "\n",
    "suma_matrices(A,B)"
   ]
  }
 ],
 "metadata": {
  "kernelspec": {
   "display_name": "Python 3",
   "language": "python",
   "name": "python3"
  },
  "language_info": {
   "codemirror_mode": {
    "name": "ipython",
    "version": 3
   },
   "file_extension": ".py",
   "mimetype": "text/x-python",
   "name": "python",
   "nbconvert_exporter": "python",
   "pygments_lexer": "ipython3",
   "version": "3.10.2"
  }
 },
 "nbformat": 4,
 "nbformat_minor": 4
}
