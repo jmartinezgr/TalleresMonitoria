{
 "cells": [
  {
   "attachments": {},
   "cell_type": "markdown",
   "metadata": {},
   "source": [
    "# Ejercicios de Arreglos Unidimensionales\n",
    "---"
   ]
  },
  {
   "attachments": {},
   "cell_type": "markdown",
   "metadata": {},
   "source": [
    "## Ejercicios 1\n",
    "\n",
    "Realice un programa que defina una lista de números y posteriormente muestre cada valor junto con su valor al cuadrado."
   ]
  },
  {
   "cell_type": "code",
   "execution_count": 1,
   "metadata": {},
   "outputs": [
    {
     "name": "stdout",
     "output_type": "stream",
     "text": [
      "1\n",
      "2\n",
      "3\n",
      "4\n",
      "5\n",
      "6\n",
      "7\n",
      "8\n",
      "9\n",
      "10\n"
     ]
    }
   ],
   "source": [
    "lista = [1,2,3,4,5,6,7,8,9,10]\n",
    "\n",
    "for i in lista:\n",
    "    print(i)"
   ]
  },
  {
   "attachments": {},
   "cell_type": "markdown",
   "metadata": {},
   "source": [
    "## Ejercicios 2\n",
    "\n",
    "Realice un programa que defina una lista de números enteros y elimine todos los valores impares. Luego, muestre los valores restantes."
   ]
  },
  {
   "cell_type": "code",
   "execution_count": 4,
   "metadata": {},
   "outputs": [
    {
     "name": "stdout",
     "output_type": "stream",
     "text": [
      "2\n",
      "4\n",
      "6\n",
      "8\n",
      "10\n"
     ]
    }
   ],
   "source": [
    "lista = [1,2,3,4,5,6,7,8,9,10]\n",
    "lista_pares = []\n",
    "for i in range(len(lista)):\n",
    "    if lista[i]%2 == 0:\n",
    "        lista_pares.append(lista[i])\n",
    "\n",
    "for j in lista_pares:\n",
    "    print(j)"
   ]
  },
  {
   "attachments": {},
   "cell_type": "markdown",
   "metadata": {},
   "source": [
    "## Ejercicios 3\n",
    "\n",
    "Haga un programa que cree una lista de 5 nombres leídos por teclado. Luego, muestre la lista en orden inverso."
   ]
  },
  {
   "cell_type": "code",
   "execution_count": 5,
   "metadata": {},
   "outputs": [
    {
     "name": "stdout",
     "output_type": "stream",
     "text": [
      "Veronica\n",
      "Santiago\n",
      "Miguel\n",
      "Manu\n",
      "Juan\n"
     ]
    }
   ],
   "source": [
    "lista_nombres = []\n",
    "\n",
    "for i in range(5):\n",
    "    nombre = input('Ingresa un nombre: ')\n",
    "    lista_nombres.append(nombre)\n",
    "\n",
    "lista_nombres.reverse()\n",
    "\n",
    "for j in lista_nombres:\n",
    "    print(j)"
   ]
  },
  {
   "attachments": {},
   "cell_type": "markdown",
   "metadata": {},
   "source": [
    "## Ejercicios 4\n",
    "\n",
    "Haga un programa que defina una lista de 5 notas (entre 0 y 5). Luego, calcule el promedio, la nota más alta y la nota más baja de las ingresadas."
   ]
  },
  {
   "cell_type": "code",
   "execution_count": 7,
   "metadata": {},
   "outputs": [
    {
     "name": "stdout",
     "output_type": "stream",
     "text": [
      "El promedio es 3.0\n",
      "La nota mas alta es 5.0\n",
      "La nota mas baja es 1.0\n"
     ]
    }
   ],
   "source": [
    "lista = []\n",
    "\n",
    "for i in range(5):\n",
    "    nota = float(input('Ingrese una nota: '))\n",
    "    lista.append(nota)\n",
    "\n",
    "print(f'El promedio es {sum(lista)/5}')\n",
    "print(f'La nota mas alta es {max(lista)}')\n",
    "print(f'La nota mas baja es {min(lista)}')"
   ]
  },
  {
   "attachments": {},
   "cell_type": "markdown",
   "metadata": {},
   "source": [
    "## Ejercicios 5\n",
    "\n",
    "Elabore un programa que lea números enteros positivos para almacenarlos en una lista hasta que se ingrese un número negativo. Luego, muestre la lista completa (sólo los números válidos)."
   ]
  },
  {
   "cell_type": "code",
   "execution_count": 8,
   "metadata": {},
   "outputs": [
    {
     "name": "stdout",
     "output_type": "stream",
     "text": [
      "1\n",
      "2\n",
      "3\n",
      "4\n",
      "5\n",
      "6\n",
      "7\n",
      "8\n"
     ]
    }
   ],
   "source": [
    "lista = []\n",
    "while True:\n",
    "    numero = int(input('Ingresa el numero que quieres añadir a la lista'))\n",
    "    if numero >=0:\n",
    "        lista.append(numero)\n",
    "    else:\n",
    "        break\n",
    "\n",
    "for i in lista:\n",
    "    print(i)"
   ]
  },
  {
   "attachments": {},
   "cell_type": "markdown",
   "metadata": {},
   "source": [
    "## Ejercicios 6\n",
    "\n",
    "Elabore un programa que declare 3 listas \"lista1\", \"lista2\" y \"lista3\" de 5 enteros cada una. Lea por teclado los valores para \"lista1\" y \"lista2\" y calcule \"lista3\" = \"lista1\" + \"lista2\""
   ]
  },
  {
   "cell_type": "code",
   "execution_count": 9,
   "metadata": {},
   "outputs": [
    {
     "name": "stdout",
     "output_type": "stream",
     "text": [
      "[1, 2, 3, 4, 5, 6, 7, 8, 9, 10]\n"
     ]
    }
   ],
   "source": [
    "lista1 = []\n",
    "lista2 = []\n",
    "lista3 = []\n",
    "\n",
    "for i in range(5):\n",
    "    numero = int(input(f'Ingresa el elemento {i+1} de la lista 1:'))\n",
    "    lista1.append(numero)\n",
    "\n",
    "for i in range(5):\n",
    "    numero = int(input(f'Ingresa el elemento {i+1} de la lista 2:'))\n",
    "    lista2.append(numero)\n",
    "\n",
    "lista3=lista1+lista2 \n",
    "\n",
    "print(lista3)"
   ]
  },
  {
   "attachments": {},
   "cell_type": "markdown",
   "metadata": {},
   "source": [
    "## Ejercicios 7\n",
    "\n",
    "Elabore un programa que guarde los nombres y las edades de un grupo de estudiantes. Lea el nombre y la edad de cada alumno hasta que por nombre ingrese el caracter asterisco ( * ). Al finalizar, muestre los nombres de los estudiantes mayores de edad."
   ]
  },
  {
   "cell_type": "code",
   "execution_count": 10,
   "metadata": {},
   "outputs": [
    {
     "name": "stdout",
     "output_type": "stream",
     "text": [
      "SON MAYORES DE EDAD: \n",
      "JUAN\n",
      "MIGUEL\n"
     ]
    }
   ],
   "source": [
    "\n",
    "nombres = []\n",
    "edades = []\n",
    "\n",
    "while True:\n",
    "    nombre = input('Ingresa el nombre del estudiante')\n",
    "    if nombre != '*':\n",
    "        nombres.append(nombre)\n",
    "        edad = int(input(f'Ingresa la edad de {nombre}: '))\n",
    "        edades.append(edad)\n",
    "    else:\n",
    "        break\n",
    "\n",
    "print('SON MAYORES DE EDAD: ')\n",
    "\n",
    "for i in range(len(edades)):\n",
    "    if edades[i] >= 18:\n",
    "        print(nombres[i])\n"
   ]
  },
  {
   "attachments": {},
   "cell_type": "markdown",
   "metadata": {},
   "source": [
    "## Ejercicios 8\n",
    "\n",
    "En la pizzería el Zorro, el cliente puede armar la pizza con los ingredientes que desee. Elabore un programa que contenga una lista con los ingredientes disponibles y otra con los precios por cada ingrediente. Muestre un menú con el listado de ingredientes y precios junto con la opción \"Finalizar Pedido\". Luego, pregunte la opción seleccionada del menú y agregue los ingredientes a la orden (el cliente puede agregar varias veces un mismo ingrediente). Al finalizar, muestre el total a pagar y el listado completo de ingredientes de la orden, teniendo en cuenta que todas las pizzas contienen **Mozzarella** y **Tomate** como base."
   ]
  },
  {
   "cell_type": "code",
   "execution_count": 11,
   "metadata": {},
   "outputs": [
    {
     "name": "stdout",
     "output_type": "stream",
     "text": [
      "***OPCIONES***\n",
      "1-AGREGAR Mozzarella PRECIO 4000\n",
      "2-AGREGAR Tomate PRECIO 2000\n",
      "3-AGREGAR Peperoni PRECIO 6000\n",
      "4-AGREGAR Champiñones PRECIO 5000\n",
      "5-AGREGAR Piña PRECIO 3000\n",
      "5-Finalizar pedido\n",
      "***OPCIONES***\n",
      "1-AGREGAR Mozzarella PRECIO 4000\n",
      "2-AGREGAR Tomate PRECIO 2000\n",
      "3-AGREGAR Peperoni PRECIO 6000\n",
      "4-AGREGAR Champiñones PRECIO 5000\n",
      "5-AGREGAR Piña PRECIO 3000\n",
      "5-Finalizar pedido\n",
      "***OPCIONES***\n",
      "1-AGREGAR Mozzarella PRECIO 4000\n",
      "2-AGREGAR Tomate PRECIO 2000\n",
      "3-AGREGAR Peperoni PRECIO 6000\n",
      "4-AGREGAR Champiñones PRECIO 5000\n",
      "5-AGREGAR Piña PRECIO 3000\n",
      "5-Finalizar pedido\n",
      "RECUERDA QUE TODAS LAS PIZZAS LLEVAN UNA BASE DE MOZZARELLA Y TOMATE\n",
      "El precio total es 12000\n",
      "LOS INGREDIENTES SOLICITADOS FUERON:\n",
      "* Mozzarella\n",
      "* Tomate\n"
     ]
    }
   ],
   "source": [
    "INGREDIENTES = ['Mozzarella','Tomate','Peperoni','Champiñones','Piña']\n",
    "PRECIOS = [4000,2000,6000,5000,3000]\n",
    "\n",
    "INGREDIENTES_ANADIDOS = []\n",
    "PRECIO = 0\n",
    "while True:\n",
    "    print('***OPCIONES***')\n",
    "    for i in range(5):\n",
    "        print(F\"{i+1}-AGREGAR {INGREDIENTES[i]} PRECIO {PRECIOS[i]}\")\n",
    "\n",
    "    print(\"5-Finalizar pedido\")\n",
    "\n",
    "    OPCION = int(input('Ingresa alguna opcion del menu: '))\n",
    "\n",
    "    if OPCION == 5:\n",
    "        break\n",
    "    else:\n",
    "        PRECIO += PRECIOS[OPCION-1]\n",
    "        INGREDIENTES_ANADIDOS.append(INGREDIENTES[OPCION-1])\n",
    "\n",
    "print('RECUERDA QUE TODAS LAS PIZZAS LLEVAN UNA BASE DE MOZZARELLA Y TOMATE')\n",
    "print(f'El precio total es {PRECIO+6000}')\n",
    "print('LOS INGREDIENTES SOLICITADOS FUERON:')\n",
    "\n",
    "for j in INGREDIENTES_ANADIDOS:\n",
    "    print(f'* {j}')\n",
    "\n",
    "\n"
   ]
  }
 ],
 "metadata": {
  "kernelspec": {
   "display_name": "Python 3",
   "language": "python",
   "name": "python3"
  },
  "language_info": {
   "codemirror_mode": {
    "name": "ipython",
    "version": 3
   },
   "file_extension": ".py",
   "mimetype": "text/x-python",
   "name": "python",
   "nbconvert_exporter": "python",
   "pygments_lexer": "ipython3",
   "version": "3.10.2"
  }
 },
 "nbformat": 4,
 "nbformat_minor": 4
}
