{
 "cells": [
  {
   "attachments": {},
   "cell_type": "markdown",
   "metadata": {},
   "source": [
    "# Pensamiento Algorítmico\n",
    "\n",
    "## Taller\n",
    "\n",
    "Resuelva cada uno de los ejercicios en la casilla correspondiente.\n",
    "\n",
    "---"
   ]
  },
  {
   "attachments": {},
   "cell_type": "markdown",
   "metadata": {},
   "source": [
    "Nombre: Sofia Calle Franco\n",
    "Documento: 1056122197"
   ]
  },
  {
   "attachments": {},
   "cell_type": "markdown",
   "metadata": {},
   "source": [
    "\n",
    "### Ejercicio 1\n",
    "\n",
    "Elabore un programa que muestre como resultado los números del 1 al 20"
   ]
  },
  {
   "cell_type": "code",
   "execution_count": null,
   "metadata": {},
   "outputs": [],
   "source": [
    "for i in range(1,21):\n",
    "    print(i)"
   ]
  },
  {
   "attachments": {},
   "cell_type": "markdown",
   "metadata": {},
   "source": [
    "### Ejercicio 2\n",
    "\n",
    "Elabore un programa que muestre como resultado los números del 1 al 20 junto con su valor doble y triple"
   ]
  },
  {
   "cell_type": "code",
   "execution_count": null,
   "metadata": {},
   "outputs": [],
   "source": [
    "for i in range(1,21):\n",
    "    print(f'El numero es {i} su doble es {i*2} y su triple es {i*3}')"
   ]
  },
  {
   "attachments": {},
   "cell_type": "markdown",
   "metadata": {},
   "source": [
    "### Ejercicio 3\n",
    "\n",
    "Elabore un programa que muestre los numeros pares entre el 1 y el 100"
   ]
  },
  {
   "cell_type": "code",
   "execution_count": null,
   "metadata": {},
   "outputs": [],
   "source": [
    "for i in range(1,101):\n",
    "    if i%2 == 0:\n",
    "        print(i)"
   ]
  },
  {
   "attachments": {},
   "cell_type": "markdown",
   "metadata": {},
   "source": [
    "### Ejercicio 4\n",
    "\n",
    "Elabore un programa lea un número entero positivo. Luego calcule la suma de todos los números desde 1 hasta el número introducido."
   ]
  },
  {
   "cell_type": "code",
   "execution_count": null,
   "metadata": {},
   "outputs": [],
   "source": [
    "numero = int(input())\n",
    "if numero > 0:\n",
    "    for i in range(1,numero+1):\n",
    "        print(i)"
   ]
  },
  {
   "attachments": {},
   "cell_type": "markdown",
   "metadata": {},
   "source": [
    "### Ejercicio 5\n",
    "\n",
    "Usted requiere calcular la nota promedio obtenida por un grupo de alumnos en un examen, cuya calificación es de 0 a 5 y requiere 3.0 o más para aprobar. Elabore un programa que lea la cantidad de alumnos que presentaron el examen y seguido ingrese cada una de las notas de los estudiantes. Al final muestre la nota promedio del examen."
   ]
  },
  {
   "cell_type": "code",
   "execution_count": 3,
   "metadata": {},
   "outputs": [
    {
     "name": "stdout",
     "output_type": "stream",
     "text": [
      "El promedio del grupo es 3.6399999999999997\n"
     ]
    }
   ],
   "source": [
    "alumnos = int(input(\"Cuantas notas vas a ingresar?: \"))\n",
    "suma = 0\n",
    "for i in range(0,alumnos):\n",
    "    suma+= float(input(f'Nota {i+1}'))\n",
    "\n",
    "promedio = suma/alumnos\n",
    "\n",
    "print(f'El promedio del grupo es {promedio}')"
   ]
  },
  {
   "attachments": {},
   "cell_type": "markdown",
   "metadata": {},
   "source": [
    "### Ejercicio 6\n",
    "\n",
    "Modifique el ejercicio 5 y, adicional a la nota promedio, muestre:\n",
    "* Cantidad de alumnos que ganaron el examen\n",
    "* Cantidad de alumnos que perdieron el examen\n",
    "* Mejor nota\n",
    "* Peor nota"
   ]
  },
  {
   "cell_type": "code",
   "execution_count": 4,
   "metadata": {},
   "outputs": [],
   "source": [
    "alumnos = int(input(\"Cuantas notas vas a ingresar?: \"))\n",
    "suma = 0\n",
    "ganadores = 0\n",
    "mejor_nota = 0\n",
    "peor_nota = 5\n",
    "\n",
    "for i in range(0,alumnos):\n",
    "    nueva_nota = float(input(f'Nota {i+1}: '))\n",
    "    suma += nueva_nota\n",
    "    if nueva_nota >= 3.0:\n",
    "        ganadores+=1\n",
    "\n",
    "    if nueva_nota > mejor_nota: \n",
    "        mejor_nota = nueva_nota\n",
    "    \n",
    "    if peor_nota > nueva_nota:\n",
    "        peor_nota = nueva_nota\n",
    "        \n",
    "promedio = suma/alumnos\n",
    "perdedores = alumnos-ganadores\n",
    "\n",
    "print(f'El promedio grupal es: {promedio}')\n",
    "print(f'{ganadores} estudiantes ganaron el examen')\n",
    "print(f'{perdedores} estudiantes perdieron el examen')\n",
    "print(f'La mejor nota es {mejor_nota}')\n",
    "print(f'La peor nota es {peor_nota}')"
   ]
  },
  {
   "attachments": {},
   "cell_type": "markdown",
   "metadata": {},
   "source": [
    "### Ejercicio 7\n",
    "\n",
    "La Tienda Militar Ora posee un sistema de fidelidad que otorga descuento a sus clientes así:\n",
    "\n",
    "* NA: No aplica fidelidad\n",
    "* Iron: 4% de descuento para compras de más de 5 artículos, de lo contrario 2%\n",
    "* Gold: 6% de descuento para compras de más de 3 artículos, de lo contrario 3%\n",
    "* Diamond: 10% de descuento para todas las compras\n",
    "\n",
    "Adicional, ofrece descuentos del 5% para personas de la tercera edad (mayores a 65 años) y un 3% de descuento para hombres mayores de 30 años que se encuentren en la Armada Nacional. Todos estos descuentos son acumulables. Existen artículos a los cuales no se les puede aplicar el descuento.\n",
    "\n",
    "Elabore un algoritmo que lea los datos del cliente (Nombre, Edad, Género, Ocupación, Fidelidad), junto con la cantidad de artículos que va a llevar. Luego lea el nombre, el precio y si el artículo aplica para descuento. Al final, muestre el total bruto, el total a pagar y el monto descontado."
   ]
  },
  {
   "cell_type": "code",
   "execution_count": 5,
   "metadata": {},
   "outputs": [
    {
     "name": "stdout",
     "output_type": "stream",
     "text": [
      "El total bruto es 5500.0\n",
      "El total a pagar es 4870.0\n",
      "El descuento tuvo valor de: 630.0\n"
     ]
    }
   ],
   "source": [
    "Nombre = input('Ingresa el nombre del cliente:')\n",
    "Edad = int(input('Ingresa la edad del cliente:'))\n",
    "Genero = input('Ingresa el genero del cliente (M: Mujer /H: Hombre): ')\n",
    "Ocupacion = input('Ingresa la ocupacion del cliente: ')\n",
    "Fidelidad = input('Ingresa la fidelidad del cliente: ')\n",
    "\n",
    "cantidad = int(input('Ingresa cuantos productos va a llevar el cliente: '))\n",
    "Descuento = 0\n",
    "\n",
    "if Fidelidad == 'Iron':\n",
    "    if cantidad > 5:    \n",
    "        Descuento+= 4\n",
    "    else:\n",
    "        Descuento+=2\n",
    "elif Fidelidad == 'Gold':\n",
    "    if cantidad > 3:\n",
    "        Descuento+=6\n",
    "    else:\n",
    "        Descuento+=3\n",
    "elif Fidelidad == 'Diamond':\n",
    "    Descuento+=10\n",
    "else:\n",
    "    Descuento+=0\n",
    "\n",
    "if Edad > 65:\n",
    "    Descuento+=5\n",
    "\n",
    "if Genero == 'H' and Ocupacion == 'Armada':\n",
    "    Descuento+=3\n",
    "\n",
    "total_bruto = 0\n",
    "total_neto = 0\n",
    "\n",
    "for i in range(0,cantidad):\n",
    "    nombre_producto = input(f'Ingresa el numero del producto {i+1}')\n",
    "    precio = float(input('Ingresa el precio del producto'))\n",
    "    total_bruto += precio\n",
    "    aplica = input('Ingresa S si aplica descuento, sino escribe N: ')\n",
    "    if aplica == 'S':\n",
    "        total_neto+= (precio - (precio*(Descuento/100)))\n",
    "    else:\n",
    "        total_neto+= precio\n",
    "\n",
    "print(f'El total bruto es {total_bruto}') \n",
    "print(f'El total a pagar es {total_neto}')\n",
    "print(f'El descuento tuvo valor de: {total_bruto-total_neto}')\n"
   ]
  },
  {
   "attachments": {},
   "cell_type": "markdown",
   "metadata": {},
   "source": [
    "### Ejercicio 8\n",
    "\n",
    "La agencia inmobiliaria AirRent ofrece alquiler de inmuebles vacacionales por días y requiere generar un informe, para el propietario de un inmueble a su cargo, de los valores pagados durante un año. Dependiendo de la candidad de días arrendados por mes, se genera un recargo:\n",
    "\n",
    "* Si un inmueble se arrienda más de 10 días al mes, se paga un recargo adicional del 10%\n",
    "* Si el inmueble se arrienda más de 20 días al mes, se paga un recargo adicional del 15%\n",
    "* De lo contrario, no se paga recargo\n",
    "\n",
    "Elabore un programa que lea el año para el cual se genera el reporte. Luego muestre cada uno de los meses del año y lea la cantidad de días que estuvo arrendado y el valor por día para ese mes. Al final, muestre:\n",
    "\n",
    "* Total pagado\n",
    "* Valor pagado por concepto de recargos\n",
    "* Mes con mayor cantidad de días arrendado\n",
    "* Mes con mayor ingreso\n",
    "* Mes con menor cantidad de días arrendado\n",
    "* Mes con menor ingreso"
   ]
  },
  {
   "cell_type": "code",
   "execution_count": 6,
   "metadata": {},
   "outputs": [
    {
     "name": "stdout",
     "output_type": "stream",
     "text": [
      "El valor total pagado es: 2588500.0\n",
      "Los recargos tuvieron valor de: 278325.0\n",
      "El mes con mayor numero de dias arrendado es: Agosto\n",
      "El mes con mayor numero de dias arrendado es: Febrero\n",
      "El mes con menor cantidad de dias arrendado es Abril\n",
      "El mes con menor cantidad de ingresos es Abril\n"
     ]
    }
   ],
   "source": [
    "año = int(input('Ingrese el año del cual se genera reporte: '))\n",
    "lista_meses = [\n",
    "    'Enero',\n",
    "    'Febrero',\n",
    "    'Marzo',\n",
    "    'Abril',\n",
    "    'Mayo',\n",
    "    'Junio',\n",
    "    'Julio',\n",
    "    'Agosto',\n",
    "    'Septiembre',\n",
    "    'Octubre',\n",
    "    'Noviembre',\n",
    "    'Diciembre'\n",
    "]\n",
    "\n",
    "Lista_ingresos = []\n",
    "Lista_dias = []\n",
    "recargos = 0\n",
    "\n",
    "for i in range(0,12):\n",
    "    cantidad_dias = int(input(f'Ingresa la cantidad de dias que estuvo arrendado en el mes de {lista_meses[i]}'))\n",
    "    Lista_dias.append(cantidad_dias)\n",
    "    valor_dia = float(input(f'Ingresa el valor por dia del mes de {lista_meses[i]}'))\n",
    "    valor_mes = cantidad_dias*valor_dia\n",
    "    if cantidad_dias > 10 and cantidad_dias <= 20:\n",
    "        valor_mes += valor_mes*0.1\n",
    "        recargos+=valor_mes*0.1\n",
    "    elif cantidad_dias> 20:\n",
    "        valor_mes += valor_mes*0.15\n",
    "        recargos += valor_mes*0.15\n",
    "    Lista_ingresos.append(valor_mes)\n",
    "\n",
    "\n",
    "print(f'El valor total pagado es: {sum(Lista_ingresos)}')\n",
    "print(f'Los recargos tuvieron valor de: {recargos}')\n",
    "\n",
    "mes_mayor_dias = Lista_dias.index(max(Lista_dias))\n",
    "print(f'El mes con mayor numero de dias arrendado es: {lista_meses[mes_mayor_dias]}')\n",
    "mes_mayor_ingreso = Lista_ingresos.index(max(Lista_ingresos))\n",
    "print(f'El mes con mayor numero cantidad de ingresos es: {lista_meses[mes_mayor_ingreso]}')\n",
    "\n",
    "mes_menor_dias = Lista_dias.index(min(Lista_dias))\n",
    "print(f'El mes con menor cantidad de dias arrendado es: {lista_meses[mes_menor_dias]}')\n",
    "mes_menor_ingreso = Lista_ingresos.index(min(Lista_ingresos))\n",
    "print(f'El mes con menor cantidad de ingresos es: {lista_meses[mes_menor_ingreso]}')"
   ]
  }
 ],
 "metadata": {
  "kernelspec": {
   "display_name": "Python 3",
   "language": "python",
   "name": "python3"
  },
  "language_info": {
   "codemirror_mode": {
    "name": "ipython",
    "version": 3
   },
   "file_extension": ".py",
   "mimetype": "text/x-python",
   "name": "python",
   "nbconvert_exporter": "python",
   "pygments_lexer": "ipython3",
   "version": "3.10.2"
  }
 },
 "nbformat": 4,
 "nbformat_minor": 4
}
