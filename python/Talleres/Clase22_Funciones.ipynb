{
 "cells": [
  {
   "attachments": {},
   "cell_type": "markdown",
   "metadata": {},
   "source": [
    "# Ejercicios de Funciones\n",
    "---"
   ]
  },
  {
   "attachments": {},
   "cell_type": "markdown",
   "metadata": {},
   "source": [
    "## Ejercicios 1\n",
    "\n",
    "Realice una función que muestre 'Hola Mundo'"
   ]
  },
  {
   "cell_type": "code",
   "execution_count": null,
   "metadata": {},
   "outputs": [],
   "source": [
    "def hola_mundo():\n",
    "    print('Hola mundo')"
   ]
  },
  {
   "attachments": {},
   "cell_type": "markdown",
   "metadata": {},
   "source": [
    "## Ejercicios 2\n",
    "\n",
    "Realice una función que reciba un \\<nombre> y muestre un saludo: \"Hola \\<nombre>\""
   ]
  },
  {
   "cell_type": "code",
   "execution_count": null,
   "metadata": {},
   "outputs": [],
   "source": [
    "def hola(NOMBRE):\n",
    "    print(f'Hola {NOMBRE}')"
   ]
  },
  {
   "attachments": {},
   "cell_type": "markdown",
   "metadata": {},
   "source": [
    "## Ejercicios 3\n",
    "\n",
    "Realice una función que reciba el precio por hora y la cantidad de horas trabajadas en la semana. Retorne el monto total a pagar"
   ]
  },
  {
   "cell_type": "code",
   "execution_count": null,
   "metadata": {},
   "outputs": [],
   "source": [
    "def pagar(PRECIO_HORA,HORAS):\n",
    "\n",
    "    return PRECIO_HORA*HORAS"
   ]
  },
  {
   "attachments": {},
   "cell_type": "markdown",
   "metadata": {},
   "source": [
    "## Ejercicios 4\n",
    "\n",
    "Cuando un empleado trabaja más de 40 horas semanales, este recibe un recargo adicional por las horas extras. Modifique la función del ejercicio anterior para que reciba adicionalmente el % de recargo por horas adicionales y retorne el monto total a pagar"
   ]
  },
  {
   "cell_type": "code",
   "execution_count": null,
   "metadata": {},
   "outputs": [],
   "source": [
    "def pagar(PRECIO_HORA,HORAS,PORCENTAJE):\n",
    "    if HORAS > 40:\n",
    "        PRECIO_EXTRA = PRECIO_HORA+ (PRECIO_HORA*(PORCENTAJE/100))\n",
    "        return PRECIO_HORA*40 + (HORAS-40)* PRECIO_EXTRA\n",
    "    else:\n",
    "        return PRECIO_HORA*HORAS"
   ]
  },
  {
   "attachments": {},
   "cell_type": "markdown",
   "metadata": {},
   "source": [
    "## Ejercicios 5\n",
    "\n",
    "Escriba una función que reciba una calificación (entre 0 y 1) y muestre el equivalente según la siguiente tabla. En caso tal de que se ingrese un valor erroneo, muestre un mensaje de error.\n",
    "\n",
    "|score|grado|\n",
    "|-----|-----|\n",
    "|>=0.9|A|\n",
    "|>=0.8|B|\n",
    "|>=0.7|C|\n",
    "|>=0.6|D|\n",
    "|<0.6|F|\n",
    "\n",
    "\n"
   ]
  },
  {
   "cell_type": "code",
   "execution_count": 1,
   "metadata": {},
   "outputs": [
    {
     "name": "stdout",
     "output_type": "stream",
     "text": [
      "A\n"
     ]
    }
   ],
   "source": [
    "def notas(NOTA):\n",
    "    if NOTA >= 0.9 and NOTA <= 1:\n",
    "        return 'A'\n",
    "    elif NOTA >= 0.8 and NOTA < 0.9:\n",
    "        return 'B'\n",
    "    elif NOTA >= 0.7 and NOTA < 0.8:\n",
    "        return 'C'\n",
    "    elif NOTA >= 0.6 and NOTA < 0.7:\n",
    "        return 'D'\n",
    "    elif NOTA <0.6:\n",
    "        return 'F'\n",
    "    else:\n",
    "        print('Valor invalido !!!')\n"
   ]
  },
  {
   "attachments": {},
   "cell_type": "markdown",
   "metadata": {},
   "source": [
    "## Ejercicios 6\n",
    "\n",
    "Se tiene una lista de notas. Elabore:\n",
    "* Una función que calcule el promedio de las notas\n",
    "* Una función que calcule la nota más alta\n",
    "* Una función que calcule la nota más baja"
   ]
  },
  {
   "cell_type": "code",
   "execution_count": null,
   "metadata": {},
   "outputs": [],
   "source": [
    "def PROMEDIO(LISTA):\n",
    "    print(f'El promedio es: {sum(LISTA)/len(LISTA)}')\n",
    "\n",
    "def MAYOR(LISTA):\n",
    "    print(f'La mayor nota es: {max(LISTA)}')\n",
    "\n",
    "def MENOR(LISTA):\n",
    "    print(f'La menor nota es: {min(LISTA)}')"
   ]
  },
  {
   "attachments": {},
   "cell_type": "markdown",
   "metadata": {},
   "source": [
    "## Ejercicios 7\n",
    "\n",
    "Elabore una función que reciba como argumentos dos números y un tipo de operación y retorne el resultado de la operación indicada. Las operaciones que debe agregar son: Suma, Resta, Multiplicación, División y Potencia."
   ]
  },
  {
   "cell_type": "code",
   "execution_count": null,
   "metadata": {},
   "outputs": [],
   "source": [
    "def operaciones(num1,num2,operacion):\n",
    "    if operacion == 'Suma':\n",
    "        return num1+num2\n",
    "    elif operacion == 'Resta':\n",
    "        return num1-num2\n",
    "    elif operacion == 'Multiplicacion':\n",
    "        return num1*num2\n",
    "    elif operacion == 'Division':\n",
    "        return num1*num2\n",
    "    elif operacion == 'Potencia':\n",
    "        return  num1**num2"
   ]
  },
  {
   "attachments": {},
   "cell_type": "markdown",
   "metadata": {},
   "source": [
    "## Ejercicios 8\n",
    "\n",
    "Elabore una función que reciba como argumentos una lista y una cadena de texto (\"ASC\" o \"DESC\". Indica si se ordena de menor a mayor o mayor o menor). La función debe retornar la lista organizada según el orden indicado. Utilice uno de los métodos de ordenamiento vistos durante el curso. Adicionalmente, por defecto, la función ordenará de menor a mayor (\"ASC\")."
   ]
  },
  {
   "cell_type": "code",
   "execution_count": 3,
   "metadata": {},
   "outputs": [
    {
     "name": "stdout",
     "output_type": "stream",
     "text": [
      "[8, 6, 3, 2, 1]\n"
     ]
    }
   ],
   "source": [
    "def ordenar(lista,orden='ASC'):\n",
    "    if orden=='ASC':\n",
    "        lista.sort(reverse=False)\n",
    "        return lista\n",
    "    elif orden == 'DESC':\n",
    "        lista.sort(reverse=True)\n",
    "        return lista\n",
    "    \n",
    "print(ordenar([1,2,3,6,8],'DESC'))"
   ]
  },
  {
   "attachments": {},
   "cell_type": "markdown",
   "metadata": {},
   "source": [
    "## Ejercicios 9\n",
    "\n",
    "Elabore una función que reciba como argumento una lista desordenada y un elemento que se desea buscar dentro de la lista. Utilice el método de búsqueda binaria para encontrar el elemento. En caso de que el elemento buscado no se encuentre en la lista, debe mostrar un mensaje. NOTA: Utilice la función del ejercicio anterior para ordenar la lista."
   ]
  },
  {
   "cell_type": "code",
   "execution_count": 4,
   "metadata": {},
   "outputs": [],
   "source": [
    "def encontrar(lista,elemento):\n",
    "    lista_ordenada = ordenar(lista)\n",
    "\n",
    "    inicio = 0\n",
    "    fin = len(lista_ordenada) - 1\n",
    "\n",
    "    while inicio <= fin:\n",
    "        medio = (inicio + fin) // 2\n",
    "        if lista_ordenada[medio] == elemento:\n",
    "            return medio\n",
    "\n",
    "        elif lista[medio] > elemento:\n",
    "            fin = medio - 1\n",
    "\n",
    "        else:\n",
    "            inicio = medio + 1\n",
    "\n",
    "    print('No se encuentra el elemento')\n",
    "\n"
   ]
  },
  {
   "attachments": {},
   "cell_type": "markdown",
   "metadata": {},
   "source": [
    "## Ejercicios 10\n",
    "\n",
    "Elabore una función que reciba tres matrices A, B y C. Retorne el resultado de A + B + C. Adicional, valide que todas las matrices sean de órden NxN. En caso tal de que no, muestre un mensaje de error."
   ]
  },
  {
   "cell_type": "code",
   "execution_count": null,
   "metadata": {},
   "outputs": [],
   "source": [
    "def sumarMatrices(A,B,C):\n",
    "    if len(A) == len(B) == len(C):\n",
    "        if len(A[0]) == len(B[0]) == len(C[0]):\n",
    "            resultado=[]\n",
    "        else:\n",
    "            print('Las dimensiones no son las mismas')\n",
    "            return None\n",
    "    else:\n",
    "        print('Las dimensiones no son las mismas')\n",
    "        return None\n",
    "        \n",
    "    for i in range(len(A)):\n",
    "        fila_resultado = []\n",
    "        for j in range(len(A[0])):\n",
    "            nuevo = A[i][j]+B[i][j]+C[i][j]\n",
    "            fila_resultado.append(nuevo)\n",
    "        resultado.append(fila_resultado)\n",
    "        \n",
    "    return resultado"
   ]
  }
 ],
 "metadata": {
  "kernelspec": {
   "display_name": "Python 3",
   "language": "python",
   "name": "python3"
  },
  "language_info": {
   "codemirror_mode": {
    "name": "ipython",
    "version": 3
   },
   "file_extension": ".py",
   "mimetype": "text/x-python",
   "name": "python",
   "nbconvert_exporter": "python",
   "pygments_lexer": "ipython3",
   "version": "3.10.2"
  }
 },
 "nbformat": 4,
 "nbformat_minor": 4
}
